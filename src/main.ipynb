{
 "cells": [
  {
   "cell_type": "code",
   "execution_count": 11,
   "metadata": {
    "scrolled": true
   },
   "outputs": [
    {
     "name": "stdout",
     "output_type": "stream",
     "text": [
      "Requirement already satisfied: tweepy in c:\\users\\shefa\\anaconda3\\lib\\site-packages (3.10.0)\n",
      "Requirement already satisfied: requests[socks]>=2.11.1 in c:\\users\\shefa\\anaconda3\\lib\\site-packages (from tweepy) (2.25.1)\n",
      "Requirement already satisfied: requests-oauthlib>=0.7.0 in c:\\users\\shefa\\anaconda3\\lib\\site-packages (from tweepy) (1.3.0)\n",
      "Requirement already satisfied: six>=1.10.0 in c:\\users\\shefa\\anaconda3\\lib\\site-packages (from tweepy) (1.15.0)\n",
      "Requirement already satisfied: oauthlib>=3.0.0 in c:\\users\\shefa\\anaconda3\\lib\\site-packages (from requests-oauthlib>=0.7.0->tweepy) (3.1.0)\n",
      "Requirement already satisfied: idna<3,>=2.5 in c:\\users\\shefa\\anaconda3\\lib\\site-packages (from requests[socks]>=2.11.1->tweepy) (2.10)\n",
      "Requirement already satisfied: chardet<5,>=3.0.2 in c:\\users\\shefa\\anaconda3\\lib\\site-packages (from requests[socks]>=2.11.1->tweepy) (4.0.0)\n",
      "Requirement already satisfied: certifi>=2017.4.17 in c:\\users\\shefa\\anaconda3\\lib\\site-packages (from requests[socks]>=2.11.1->tweepy) (2020.12.5)\n",
      "Requirement already satisfied: urllib3<1.27,>=1.21.1 in c:\\users\\shefa\\anaconda3\\lib\\site-packages (from requests[socks]>=2.11.1->tweepy) (1.26.2)\n",
      "Requirement already satisfied: PySocks!=1.5.7,>=1.5.6 in c:\\users\\shefa\\anaconda3\\lib\\site-packages (from requests[socks]>=2.11.1->tweepy) (1.7.1)\n",
      "Requirement already satisfied: pandas in c:\\users\\shefa\\anaconda3\\lib\\site-packages (1.2.0)\n",
      "Requirement already satisfied: numpy>=1.16.5 in c:\\users\\shefa\\anaconda3\\lib\\site-packages (from pandas) (1.19.2)\n",
      "Requirement already satisfied: pytz>=2017.3 in c:\\users\\shefa\\anaconda3\\lib\\site-packages (from pandas) (2020.5)\n",
      "Requirement already satisfied: python-dateutil>=2.7.3 in c:\\users\\shefa\\anaconda3\\lib\\site-packages (from pandas) (2.8.1)\n",
      "Requirement already satisfied: six>=1.5 in c:\\users\\shefa\\anaconda3\\lib\\site-packages (from python-dateutil>=2.7.3->pandas) (1.15.0)\n",
      "Requirement already satisfied: nltk in c:\\users\\shefa\\anaconda3\\lib\\site-packages (3.5)\n",
      "Requirement already satisfied: click in c:\\users\\shefa\\anaconda3\\lib\\site-packages (from nltk) (7.1.2)\n",
      "Requirement already satisfied: joblib in c:\\users\\shefa\\anaconda3\\lib\\site-packages (from nltk) (1.0.0)\n",
      "Requirement already satisfied: tqdm in c:\\users\\shefa\\anaconda3\\lib\\site-packages (from nltk) (4.55.1)\n",
      "Requirement already satisfied: regex in c:\\users\\shefa\\anaconda3\\lib\\site-packages (from nltk) (2020.11.13)\n",
      "Requirement already satisfied: wordcloud in c:\\users\\shefa\\anaconda3\\lib\\site-packages (1.8.1)\n",
      "Requirement already satisfied: matplotlib in c:\\users\\shefa\\anaconda3\\lib\\site-packages (from wordcloud) (3.3.2)\n",
      "Requirement already satisfied: numpy>=1.6.1 in c:\\users\\shefa\\anaconda3\\lib\\site-packages (from wordcloud) (1.19.2)\n",
      "Requirement already satisfied: pillow in c:\\users\\shefa\\anaconda3\\lib\\site-packages (from wordcloud) (8.1.0)\n",
      "Requirement already satisfied: certifi>=2020.06.20 in c:\\users\\shefa\\anaconda3\\lib\\site-packages (from matplotlib->wordcloud) (2020.12.5)\n",
      "Requirement already satisfied: pyparsing!=2.0.4,!=2.1.2,!=2.1.6,>=2.0.3 in c:\\users\\shefa\\anaconda3\\lib\\site-packages (from matplotlib->wordcloud) (2.4.7)\n",
      "Requirement already satisfied: python-dateutil>=2.1 in c:\\users\\shefa\\anaconda3\\lib\\site-packages (from matplotlib->wordcloud) (2.8.1)\n",
      "Requirement already satisfied: kiwisolver>=1.0.1 in c:\\users\\shefa\\anaconda3\\lib\\site-packages (from matplotlib->wordcloud) (1.3.0)\n",
      "Requirement already satisfied: cycler>=0.10 in c:\\users\\shefa\\anaconda3\\lib\\site-packages (from matplotlib->wordcloud) (0.10.0)\n",
      "Requirement already satisfied: six in c:\\users\\shefa\\anaconda3\\lib\\site-packages (from cycler>=0.10->matplotlib->wordcloud) (1.15.0)\n",
      "Requirement already satisfied: numpy in c:\\users\\shefa\\anaconda3\\lib\\site-packages (1.19.2)\n"
     ]
    }
   ],
   "source": [
    "# Install required libaries\n",
    "!pip install tweepy\n",
    "!pip install pandas\n",
    "!pip install nltk\n",
    "!pip install wordcloud\n",
    "!pip install numpy"
   ]
  },
  {
   "cell_type": "code",
   "execution_count": 2,
   "metadata": {},
   "outputs": [
    {
     "name": "stderr",
     "output_type": "stream",
     "text": [
      "[nltk_data] Downloading package vader_lexicon to\n",
      "[nltk_data]     C:\\Users\\RxN\\AppData\\Roaming\\nltk_data...\n",
      "[nltk_data]   Package vader_lexicon is already up-to-date!\n"
     ]
    }
   ],
   "source": [
    "import nltk\n",
    "from nltk.sentiment.vader import SentimentIntensityAnalyzer\n",
    "nltk.download('vader_lexicon')\n",
    "from nltk.stem.porter import *\n",
    "\n",
    "from wordcloud import WordCloud\n",
    "import pandas as pd\n",
    "import numpy as np\n",
    "import os.path\n",
    "import tweepy\n",
    "import re"
   ]
  },
  {
   "cell_type": "markdown",
   "metadata": {},
   "source": [
    "## Questions we are looking to answer about the Farmers Protest in India:\n",
    "1) General sentiments of people - are they in favour of the Farm Bill or not - Classification. <br>\n",
    "2) What are their main concerns - NER\n",
    "\n",
    "## Dev Notes (for the group), delete this later\n",
    "Regson (Preprocessing):\n",
    "1) I only used the tweets which has not been truncated in the api - this means we are not actually working with 1000 tweets. We can increase max_items later to use more. <br>\n",
    "2) I removed the all hashtags from tweets, but it might be useful keep them and just remove the \"#\" instead. The hash tag itself could hold some sentiment, this will need to be expiremented. <br>\n",
    "3) I  removed stemmings, but im not sure how good this stemmings libaries is, we can give it a try with / without the stemming libiary and see what performs better? <br>\n",
    "4) I removed the search terms \"farmer\" & \"protest\", because nearly every tweet contained this. <br>\n",
    "5) I removed all non-ASCII text, this removed emojis and words written in hindi - I'm not sure if the sentiment libaries supports unicode but some emojis will definitely hold sentiment.  <br>"
   ]
  },
  {
   "cell_type": "markdown",
   "metadata": {},
   "source": [
    "## Set up config information"
   ]
  },
  {
   "cell_type": "code",
   "execution_count": 25,
   "metadata": {},
   "outputs": [
    {
     "name": "stderr",
     "output_type": "stream",
     "text": [
      "<ipython-input-25-417303d6515a>:11: FutureWarning: Passing a negative integer is deprecated in version 1.0 and will not be supported in future version. Instead, use None to not limit the column width.\n",
      "  pd.set_option('display.max_colwidth', -1)\n"
     ]
    }
   ],
   "source": [
    "# CSV Names\n",
    "RAW_CSV_NAME = \"raw_tweets.csv\"\n",
    "PREPROCESSED_CSV_NAME = \"preprocessed_tweets.csv\"\n",
    "\n",
    "# Twitter API Credentials\n",
    "CONSUMER_KEY = \"hnGPJx6xBsudTgwOAxd0UNGUW\"\n",
    "CONSUMER_SECRET = \"JcxhisQeF19hlEHRdeBifU3aL4R9DP9BWEMjYJ7MtnGcWaxn0p\"\n",
    "ACCESS_KEY = \"1249286455530123264-5LbTPxHcE8Hl3CHhWztOsycMGEViHT\"\n",
    "ACCESS_SECRET = \"4vdHhFP3odtZSUAKkK6GgPm7Vl03EHwvbP7cRTLFmQbFf\"\n",
    "\n",
    "pd.set_option('display.max_colwidth', -1)"
   ]
  },
  {
   "cell_type": "markdown",
   "metadata": {},
   "source": [
    "## Load Tweets"
   ]
  },
  {
   "cell_type": "code",
   "execution_count": 26,
   "metadata": {
    "scrolled": false
   },
   "outputs": [],
   "source": [
    "USE_CSV = True\n",
    "\n",
    "if not USE_CSV or not os.path.isfile(RAW_CSV_NAME):\n",
    "    # Connect to API\n",
    "    auth = tweepy.OAuthHandler(CONSUMER_KEY, CONSUMER_SECRET)\n",
    "    auth.set_access_token(ACCESS_KEY, ACCESS_SECRET)\n",
    "    api = tweepy.API(auth)\n",
    "\n",
    "    # Query the API\n",
    "    search_term = \"FarmersProtest\"\n",
    "    max_items = 1000\n",
    "    result_type = \"recent\"\n",
    "    lang = \"en\"\n",
    "    # Do not include retweets or replies          \n",
    "    response = tweepy.Cursor(api.search, q=search_term+\"-filter:retweets -filter:replies\",\n",
    "                             result_type=result_type, lang=lang).items(max_items)\n",
    "\n",
    "    # Extract only the required keys from the response\n",
    "    # Do not include truncated tweets\n",
    "    tweets = [\n",
    "        [tweet.created_at,\n",
    "         tweet.text,\n",
    "         tweet.retweet_count,\n",
    "         tweet.favorite_count,\n",
    "         tweet.user.screen_name,\n",
    "         tweet.user.followers_count,\n",
    "         tweet.user.verified\n",
    "        ] for tweet in response if (not tweet.truncated) ]\n",
    "\n",
    "    # Store as CSV for later\n",
    "    tweets_df = pd.DataFrame(data=tweets, columns=[\"created_at\", \"text\", \"retweet_count\", \"favorite_count\",\n",
    "    \"user_screen_name\", \"user_followers_count\", \"user_verified\"])\n",
    "    tweets_df.to_csv(RAW_CSV_NAME, quotechar='\"', encoding='utf8', index = False, header=True)\n",
    "\n",
    "raw_tweets = pd.read_csv(RAW_CSV_NAME, quotechar='\"', encoding='utf8')"
   ]
  },
  {
   "cell_type": "markdown",
   "metadata": {},
   "source": [
    "## Preprocessing"
   ]
  },
  {
   "cell_type": "code",
   "execution_count": 29,
   "metadata": {
    "scrolled": false
   },
   "outputs": [
    {
     "name": "stdout",
     "output_type": "stream",
     "text": [
      "0    can we have an investigation on this                                                         \n",
      "1    captain saab amarinder you need to investigate this police officers need to be punished      \n",
      "2    there is no compromise when it comes to injustice you have to fight it stand with our farmers\n",
      "3    farmers in india are fighting for their livelihoods                                          \n",
      "4    with farmers 4farmers                                                                        \n",
      "Name: text_processed, dtype: object\n"
     ]
    }
   ],
   "source": [
    "tweets_df = raw_tweets.copy()\n",
    "tweets_df['text_processed'] = raw_tweets['text']\n",
    "\n",
    "# Truncated tweets were removed in the prior cell\n",
    "\n",
    "# Remove any links\n",
    "tweets_df['text_processed'] = tweets_df['text_processed'].map(lambda x: re.sub(r'http\\S+', '', x))\n",
    "\n",
    "# Remove any timestamps\n",
    "tweets_df['text_processed'] = tweets_df['text_processed'].map(lambda x: re.sub(r'[0-9]{1,2}:[0-9]{1,2}:[0-9]{1,2}', '', x))\n",
    "\n",
    "# Remove punctuation\n",
    "tweets_df['text_processed'] = tweets_df['text_processed'].map(lambda x: re.sub('[=,:\\\\.!?|\\-\\_\"}{}]', ' ', x))\n",
    "\n",
    "# Convert remove apostrophe from words\n",
    "tweets_df['text_processed'] = tweets_df['text_processed'].map(lambda x: re.sub('[\\']', '', x))\n",
    "\n",
    "# Remove unnecessary line breaks\n",
    "tweets_df['text_processed'] = tweets_df['text_processed'].map(lambda x: re.sub(r\"\\n\", '', x))\n",
    "\n",
    "# Convert text to lower case\n",
    "tweets_df['text_processed'] = tweets_df['text_processed'].map(lambda x: x.lower())\n",
    "\n",
    "# Remove any emojis or non-english alphabet\n",
    "# (!) NOTE: this removes hindi words too, we may need this \n",
    "tweets_df['text_processed'] = tweets_df['text_processed'].map(lambda x: re.sub(r'[^\\x00-\\x7F]+', '', x))\n",
    "\n",
    "# Remove any twitter handles\n",
    "tweets_df['text_processed'] = tweets_df['text_processed'].map(lambda x: re.sub('@[\\w]*', '', x))\n",
    "\n",
    "# Remove the search terms\n",
    "'''\n",
    "tweets_df['text_processed'] = tweets_df['text_processed'].map(lambda x: re.sub('farmer', '', x))\n",
    "tweets_df['text_processed'] = tweets_df['text_processed'].map(lambda x: re.sub('protest', '', x))\n",
    "'''\n",
    "# Remove any hashtags\n",
    "# (!) NOTE: it might be possible that someone uses hashtag in midtext, so might need this\n",
    "tweets_df['text_processed'] = tweets_df['text_processed'].map(lambda x: re.sub('#[\\w]*', '', x))\n",
    "\n",
    "# Remove leading spaces\n",
    "tweets_df['text_processed'] = tweets_df['text_processed'].map(lambda x: re.sub(r'^\\s+', '', x))\n",
    "\n",
    "# Remove trailing spaces\n",
    "tweets_df['text_processed'] = tweets_df['text_processed'].map(lambda x: re.sub(r'[ \\t]+$', '', x))\n",
    "\n",
    "# Remove multi spaces\n",
    "tweets_df['text_processed'] = tweets_df['text_processed'].map(lambda x: re.sub(' +', ' ', x))\n",
    "\n",
    "# Remove small words (words like \"a\", \"ok\", \"are\", \"in\" are useless)\n",
    "'''\n",
    "min_word_length = 3\n",
    "tweets_df['text_processed'] = tweets_df['text_processed'].map(lambda x: ' '.join([word for word in x.split() if len(word)>min_word_length]))\n",
    "'''\n",
    "# Remove stemmings\n",
    "# (?) NOTE: Maybe use a different stemming libary or keep stemmings\n",
    "'''\n",
    "stemmer = PorterStemmer()\n",
    "tweets_df['text_processed'] = tweets_df['text_processed'].map(lambda x: ' '.join([stemmer.stem(word) for word in x.split(\" \")]))\n",
    "'''\n",
    "# Remove duplicate tweets (keep latest)\n",
    "tweets_df = tweets_df.drop_duplicates(subset='text_processed', keep=\"last\")\n",
    "\n",
    "# Remove any empty columns after all the processing\n",
    "tweets_df['text_processed'].replace('', np.nan, inplace=True)\n",
    "tweets_df.dropna(subset=['text_processed'], inplace=True)\n",
    " \n",
    "# Store as CSV for later, tweets_df will contain the headers\n",
    "processed_tweets_df = pd.DataFrame(data=tweets_df)\n",
    "print(processed_tweets_df['text_processed'].head())\n",
    "processed_tweets_df.to_csv(PREPROCESSED_CSV_NAME, quotechar='\"', encoding='utf8', index = False, header=True)"
   ]
  },
  {
   "cell_type": "markdown",
   "metadata": {},
   "source": [
    " ## Word Cloud"
   ]
  },
  {
   "cell_type": "code",
   "execution_count": 33,
   "metadata": {},
   "outputs": [
    {
     "data": {
      "image/png": "[encoded data removed]",
      "text/plain": [
       "<PIL.Image.Image image mode=RGB size=400x200 at 0x20F68757910>"
      ]
     },
     "execution_count": 33,
     "metadata": {},
     "output_type": "execute_result"
    }
   ],
   "source": [
    "processed_tweets_df = pd.read_csv(PREPROCESSED_CSV_NAME, quotechar='\"', encoding='utf8')\n",
    "\n",
    "# join the words of the different tweets together into one string\n",
    "long_string = ' '.join([text for text in processed_tweets_df['text_processed']])\n",
    "new_long_string = ' '.join(set(long_string.split(\" \")))\n",
    "\n",
    "# create a WordCloud object\n",
    "wordcloud = WordCloud(background_color=\"white\", max_words=1000, contour_width=3, contour_color='steelblue')\n",
    "\n",
    "# generate a word cloud\n",
    "wordcloud.generate(long_string)\n",
    "\n",
    "# visualize the word cloud\n",
    "wordcloud.to_image()"
   ]
  },
  {
   "cell_type": "markdown",
   "metadata": {},
   "source": [
    "## Sentiment Analysis"
   ]
  },
  {
   "cell_type": "code",
   "execution_count": 31,
   "metadata": {},
   "outputs": [
    {
     "name": "stdout",
     "output_type": "stream",
     "text": [
      "            created_at  \\\n",
      "0  2021-03-22 23:16:07   \n",
      "1  2021-03-22 23:14:39   \n",
      "2  2021-03-22 23:14:12   \n",
      "3  2021-03-22 23:12:51   \n",
      "4  2021-03-22 22:55:32   \n",
      "\n",
      "                                                                                                                                      text  \\\n",
      "0  Can we have an investigation on this @SukhpalKhaira #FarmersProtest https://t.co/qe5ttozzPE                                               \n",
      "1  Captain Saab @capt_amarinder You need to investigate this. Police officers need to be punished. #FarmersProtest https://t.co/qe5ttozzPE   \n",
      "2  There is no compromise when it comes to injustice. You have to fight it.Stand with our farmers\\n\\n #FarmersProtest\\n\\n 23:14:12           \n",
      "3  Farmers in India are fighting for their livelihoods. 🙏✊🏼\\n#IStandWithFarmers\\n#FarmersProtest https://t.co/RT8djhdopQ                     \n",
      "4  #23march with farmers #23March_किसानों_के_साथ #FarmersProtest #BoycottBJP_4Farmers                                                        \n",
      "\n",
      "   retweet_count  favorite_count user_screen_name  user_followers_count  \\\n",
      "0  0              0               LyllpuriaDeep1   905                    \n",
      "1  0              0               LyllpuriaDeep1   905                    \n",
      "2  0              0               DigitalKisanBot  2330                   \n",
      "3  1              2               SHERNI__         142                    \n",
      "4  0              0               MajorSi29334159  8                      \n",
      "\n",
      "   user_verified  \\\n",
      "0  False           \n",
      "1  False           \n",
      "2  False           \n",
      "3  False           \n",
      "4  False           \n",
      "\n",
      "                                                                                  text_processed  \\\n",
      "0  can we have an investigation on this                                                            \n",
      "1  captain saab amarinder you need to investigate this police officers need to be punished         \n",
      "2  there is no compromise when it comes to injustice you have to fight it stand with our farmers   \n",
      "3  farmers in india are fighting for their livelihoods                                             \n",
      "4  with farmers 4farmers                                                                           \n",
      "\n",
      "                                                           scores  compound  \\\n",
      "0  {'neg': 0.0, 'neu': 1.0, 'pos': 0.0, 'compound': 0.0}           0.0000     \n",
      "1  {'neg': 0.188, 'neu': 0.812, 'pos': 0.0, 'compound': -0.4588}  -0.4588     \n",
      "2  {'neg': 0.362, 'neu': 0.638, 'pos': 0.0, 'compound': -0.8176}  -0.8176     \n",
      "3  {'neg': 0.24, 'neu': 0.577, 'pos': 0.183, 'compound': -0.1531} -0.1531     \n",
      "4  {'neg': 0.0, 'neu': 1.0, 'pos': 0.0, 'compound': 0.0}           0.0000     \n",
      "\n",
      "  sentiment_type  \n",
      "0  NEUTRAL        \n",
      "1  NEGATIVE       \n",
      "2  NEGATIVE       \n",
      "3  NEGATIVE       \n",
      "4  NEUTRAL        \n"
     ]
    },
    {
     "data": {
      "text/plain": [
       "<AxesSubplot:title={'center':'sentiment analysis'}>"
      ]
     },
     "execution_count": 31,
     "metadata": {},
     "output_type": "execute_result"
    },
    {
     "data": {
      "image/png": "[encoded data removed]",
      "text/plain": [
       "<Figure size 432x288 with 1 Axes>"
      ]
     },
     "metadata": {
      "needs_background": "light"
     },
     "output_type": "display_data"
    }
   ],
   "source": [
    "df = pd.read_csv(PREPROCESSED_CSV_NAME, quotechar='\"', encoding='utf8')\n",
    "\n",
    "sid = SentimentIntensityAnalyzer()\n",
    "\n",
    "df['scores'] = df['text_processed'].apply(lambda text_processed: sid.polarity_scores(text_processed))\n",
    "\n",
    "df['compound'] = df['scores'].apply(lambda score_dict: score_dict['compound'])\n",
    "df['sentiment_type']=''\n",
    "df.loc[df.compound>0,'sentiment_type']='POSITIVE'\n",
    "df.loc[df.compound==0 ,'sentiment_type']='NEUTRAL'\n",
    "df.loc[df.compound<0,'sentiment_type']='NEGATIVE'\n",
    "\n",
    "print(df.head())\n",
    "df.sentiment_type.value_counts().plot(kind='bar',title=\"sentiment analysis\")"
   ]
  },
  {
   "cell_type": "markdown",
   "metadata": {},
   "source": [
    "## Named Entity Recognition"
   ]
  },
  {
   "cell_type": "code",
   "execution_count": 18,
   "metadata": {},
   "outputs": [
    {
     "name": "stdout",
     "output_type": "stream",
     "text": [
      "Collecting spacy-transformers\n",
      "  Using cached spacy_transformers-1.0.1-py2.py3-none-any.whl (38 kB)\n",
      "Processing c:\\users\\rxn\\appdata\\local\\pip\\cache\\wheels\\3b\\75\\17\\b11b16ad90276ff6e4e03ec375d55291a186c7fe9dbf87fba3\\torchcontrib-0.0.2-py3-none-any.whl\n",
      "Collecting transformers<4.3.0,>=3.1.0\n",
      "  Using cached transformers-4.2.2-py3-none-any.whl (1.8 MB)\n",
      "Requirement already satisfied: spacy-alignments<1.0.0,>=0.7.2 in c:\\users\\rxn\\anaconda3\\lib\\site-packages (from spacy-transformers) (0.7.2)\n",
      "Requirement already satisfied: srsly<3.0.0,>=2.4.0 in c:\\users\\rxn\\anaconda3\\lib\\site-packages (from spacy-transformers) (2.4.0)\n",
      "Requirement already satisfied: ftfy<6.0.0,>=5.0.0 in c:\\users\\rxn\\anaconda3\\lib\\site-packages (from spacy-transformers) (5.9)\n"
     ]
    },
    {
     "name": "stderr",
     "output_type": "stream",
     "text": [
      "ERROR: Exception:\n",
      "Traceback (most recent call last):"
     ]
    },
    {
     "name": "stdout",
     "output_type": "stream",
     "text": [
      "Requirement already satisfied: torch>=1.5.0 in c:\\users\\rxn\\anaconda3\\lib\\site-packages (from spacy-transformers) (1.8.1)\n",
      "Requirement already satisfied: tokenizers==0.9.4 in c:\\users\\rxn\\anaconda3\\lib\\site-packages (from transformers<4.3.0,>=3.1.0->spacy-transformers) (0.9.4)\n",
      "Requirement already satisfied: tqdm>=4.27 in c:\\users\\rxn\\anaconda3\\lib\\site-packages (from transformers<4.3.0,>=3.1.0->spacy-transformers) (4.50.2)\n",
      "Requirement already satisfied: numpy in c:\\users\\rxn\\anaconda3\\lib\\site-packages (from transformers<4.3.0,>=3.1.0->spacy-transformers) (1.19.2)\n",
      "Requirement already satisfied: packaging in c:\\users\\rxn\\anaconda3\\lib\\site-packages (from transformers<4.3.0,>=3.1.0->spacy-transformers) (20.4)\n",
      "Requirement already satisfied: regex!=2019.12.17 in c:\\users\\rxn\\anaconda3\\lib\\site-packages (from transformers<4.3.0,>=3.1.0->spacy-transformers) (2020.10.15)\n",
      "Requirement already satisfied: filelock in c:\\users\\rxn\\appdata\\roaming\\python\\python38\\site-packages (from transformers<4.3.0,>=3.1.0->spacy-transformers) (3.0.12)\n",
      "Requirement already satisfied: sacremoses in c:\\users\\rxn\\anaconda3\\lib\\site-packages (from transformers<4.3.0,>=3.1.0->spacy-transformers) (0.0.43)\n",
      "Requirement already satisfied: requests in c:\\users\\rxn\\anaconda3\\lib\\site-packages (from transformers<4.3.0,>=3.1.0->spacy-transformers) (2.24.0)\n",
      "Requirement already satisfied: catalogue<2.1.0,>=2.0.1 in c:\\users\\rxn\\anaconda3\\lib\\site-packages (from srsly<3.0.0,>=2.4.0->spacy-transformers) (2.0.1)\n",
      "Requirement already satisfied: wcwidth in c:\\users\\rxn\\anaconda3\\lib\\site-packages (from ftfy<6.0.0,>=5.0.0->spacy-transformers) (0.2.5)\n",
      "Requirement already satisfied: typing-extensions in c:\\users\\rxn\\anaconda3\\lib\\site-packages (from torch>=1.5.0->spacy-transformers) (3.7.4.3)\n",
      "Requirement already satisfied: pyparsing>=2.0.2 in c:\\users\\rxn\\anaconda3\\lib\\site-packages (from packaging->transformers<4.3.0,>=3.1.0->spacy-transformers) (2.4.7)\n",
      "Requirement already satisfied: six in c:\\users\\rxn\\appdata\\roaming\\python\\python38\\site-packages (from packaging->transformers<4.3.0,>=3.1.0->spacy-transformers) (1.15.0)\n",
      "Requirement already satisfied: joblib in c:\\users\\rxn\\anaconda3\\lib\\site-packages (from sacremoses->transformers<4.3.0,>=3.1.0->spacy-transformers) (0.17.0)\n",
      "Requirement already satisfied: click in c:\\users\\rxn\\anaconda3\\lib\\site-packages (from sacremoses->transformers<4.3.0,>=3.1.0->spacy-transformers) (7.1.2)\n",
      "Requirement already satisfied: chardet<4,>=3.0.2 in c:\\users\\rxn\\anaconda3\\lib\\site-packages (from requests->transformers<4.3.0,>=3.1.0->spacy-transformers) (3.0.4)\n",
      "Requirement already satisfied: certifi>=2017.4.17 in c:\\users\\rxn\\anaconda3\\lib\\site-packages (from requests->transformers<4.3.0,>=3.1.0->spacy-transformers) (2020.6.20)\n",
      "Requirement already satisfied: idna<3,>=2.5 in c:\\users\\rxn\\anaconda3\\lib\\site-packages (from requests->transformers<4.3.0,>=3.1.0->spacy-transformers) (2.10)\n",
      "Requirement already satisfied: urllib3!=1.25.0,!=1.25.1,<1.26,>=1.21.1 in c:\\users\\rxn\\anaconda3\\lib\\site-packages (from requests->transformers<4.3.0,>=3.1.0->spacy-transformers) (1.25.11)\n",
      "Installing collected packages: torchcontrib, transformers, spacy-transformers\n"
     ]
    },
    {
     "name": "stderr",
     "output_type": "stream",
     "text": [
      "\n",
      "  File \"C:\\Users\\RxN\\AppData\\Roaming\\Python\\Python38\\site-packages\\pip\\_internal\\cli\\base_command.py\", line 228, in _main\n",
      "    status = self.run(options, args)\n",
      "  File \"C:\\Users\\RxN\\AppData\\Roaming\\Python\\Python38\\site-packages\\pip\\_internal\\cli\\req_command.py\", line 182, in wrapper\n",
      "    return func(self, options, args)\n",
      "  File \"C:\\Users\\RxN\\AppData\\Roaming\\Python\\Python38\\site-packages\\pip\\_internal\\commands\\install.py\", line 397, in run\n",
      "    installed = install_given_reqs(\n",
      "  File \"C:\\Users\\RxN\\AppData\\Roaming\\Python\\Python38\\site-packages\\pip\\_internal\\req\\__init__.py\", line 82, in install_given_reqs\n",
      "    requirement.install(\n",
      "  File \"C:\\Users\\RxN\\AppData\\Roaming\\Python\\Python38\\site-packages\\pip\\_internal\\req\\req_install.py\", line 814, in install\n",
      "    install_wheel(\n",
      "  File \"C:\\Users\\RxN\\AppData\\Roaming\\Python\\Python38\\site-packages\\pip\\_internal\\operations\\install\\wheel.py\", line 852, in install_wheel\n",
      "    _install_wheel(\n",
      "  File \"C:\\Users\\RxN\\AppData\\Roaming\\Python\\Python38\\site-packages\\pip\\_internal\\operations\\install\\wheel.py\", line 762, in _install_wheel\n",
      "    generated_console_scripts = maker.make_multiple(scripts_to_generate)\n",
      "  File \"C:\\Users\\RxN\\AppData\\Roaming\\Python\\Python38\\site-packages\\pip\\_vendor\\distlib\\scripts.py\", line 418, in make_multiple\n",
      "    filenames.extend(self.make(specification, options))\n",
      "  File \"C:\\Users\\RxN\\AppData\\Roaming\\Python\\Python38\\site-packages\\pip\\_internal\\operations\\install\\wheel.py\", line 498, in make\n",
      "    return super(PipScriptMaker, self).make(specification, options)\n",
      "  File \"C:\\Users\\RxN\\AppData\\Roaming\\Python\\Python38\\site-packages\\pip\\_vendor\\distlib\\scripts.py\", line 407, in make\n",
      "    self._make_script(entry, filenames, options=options)\n",
      "  File \"C:\\Users\\RxN\\AppData\\Roaming\\Python\\Python38\\site-packages\\pip\\_vendor\\distlib\\scripts.py\", line 307, in _make_script\n",
      "    self._write_script(scriptnames, shebang, script, filenames, ext)\n",
      "  File \"C:\\Users\\RxN\\AppData\\Roaming\\Python\\Python38\\site-packages\\pip\\_vendor\\distlib\\scripts.py\", line 242, in _write_script\n",
      "    launcher = self._get_launcher('t')\n",
      "  File \"C:\\Users\\RxN\\AppData\\Roaming\\Python\\Python38\\site-packages\\pip\\_vendor\\distlib\\scripts.py\", line 386, in _get_launcher\n",
      "    raise ValueError(msg)\n",
      "ValueError: Unable to find resource t64.exe in package pip._vendor.distlib\n",
      "WARNING: You are using pip version 20.2.3; however, version 21.0.1 is available.\n",
      "You should consider upgrading via the 'C:\\Users\\RxN\\anaconda3\\python.exe -m pip install --upgrade pip' command.\n"
     ]
    },
    {
     "name": "stdout",
     "output_type": "stream",
     "text": [
      "Collecting en-core-web-trf==3.0.0\n",
      "  Downloading https://github.com/explosion/spacy-models/releases/download/en_core_web_trf-3.0.0/en_core_web_trf-3.0.0-py3-none-any.whl (459.7 MB)\n",
      "Collecting spacy-transformers<1.1.0,>=1.0.0rc4\n",
      "  Using cached spacy_transformers-1.0.1-py2.py3-none-any.whl (38 kB)\n",
      "Requirement already satisfied: spacy<3.1.0,>=3.0.0 in c:\\users\\rxn\\anaconda3\\lib\\site-packages (from en-core-web-trf==3.0.0) (3.0.0)\n",
      "Requirement already satisfied: spacy-alignments<1.0.0,>=0.7.2 in c:\\users\\rxn\\anaconda3\\lib\\site-packages (from spacy-transformers<1.1.0,>=1.0.0rc4->en-core-web-trf==3.0.0) (0.7.2)\n",
      "Requirement already satisfied: torchcontrib<0.1.0,>=0.0.2 in c:\\users\\rxn\\anaconda3\\lib\\site-packages (from spacy-transformers<1.1.0,>=1.0.0rc4->en-core-web-trf==3.0.0) (0.0.2)\n",
      "Requirement already satisfied: ftfy<6.0.0,>=5.0.0 in c:\\users\\rxn\\anaconda3\\lib\\site-packages (from spacy-transformers<1.1.0,>=1.0.0rc4->en-core-web-trf==3.0.0) (5.9)\n",
      "Requirement already satisfied: torch>=1.5.0 in c:\\users\\rxn\\anaconda3\\lib\\site-packages (from spacy-transformers<1.1.0,>=1.0.0rc4->en-core-web-trf==3.0.0) (1.8.1)\n",
      "Requirement already satisfied: transformers<4.3.0,>=3.1.0 in c:\\users\\rxn\\anaconda3\\lib\\site-packages (from spacy-transformers<1.1.0,>=1.0.0rc4->en-core-web-trf==3.0.0) (4.2.2)\n",
      "Requirement already satisfied: srsly<3.0.0,>=2.4.0 in c:\\users\\rxn\\anaconda3\\lib\\site-packages (from spacy-transformers<1.1.0,>=1.0.0rc4->en-core-web-trf==3.0.0) (2.4.0)\n",
      "Requirement already satisfied: thinc<8.1.0,>=8.0.0 in c:\\users\\rxn\\anaconda3\\lib\\site-packages (from spacy<3.1.0,>=3.0.0->en-core-web-trf==3.0.0) (8.0.1)\n",
      "Requirement already satisfied: numpy>=1.15.0 in c:\\users\\rxn\\anaconda3\\lib\\site-packages (from spacy<3.1.0,>=3.0.0->en-core-web-trf==3.0.0) (1.19.2)\n",
      "Requirement already satisfied: setuptools in c:\\users\\rxn\\anaconda3\\lib\\site-packages (from spacy<3.1.0,>=3.0.0->en-core-web-trf==3.0.0) (50.3.0.post20201006)\n",
      "Requirement already satisfied: pydantic<1.8.0,>=1.7.1 in c:\\users\\rxn\\anaconda3\\lib\\site-packages (from spacy<3.1.0,>=3.0.0->en-core-web-trf==3.0.0) (1.7.3)\n",
      "Requirement already satisfied: preshed<3.1.0,>=3.0.2 in c:\\users\\rxn\\anaconda3\\lib\\site-packages (from spacy<3.1.0,>=3.0.0->en-core-web-trf==3.0.0) (3.0.5)\n",
      "Requirement already satisfied: typer<0.4.0,>=0.3.0 in c:\\users\\rxn\\anaconda3\\lib\\site-packages (from spacy<3.1.0,>=3.0.0->en-core-web-trf==3.0.0) (0.3.2)\n",
      "Requirement already satisfied: jinja2 in c:\\users\\rxn\\anaconda3\\lib\\site-packages (from spacy<3.1.0,>=3.0.0->en-core-web-trf==3.0.0) (2.11.2)\n",
      "Requirement already satisfied: pathy in c:\\users\\rxn\\anaconda3\\lib\\site-packages (from spacy<3.1.0,>=3.0.0->en-core-web-trf==3.0.0) (0.3.5)\n",
      "Requirement already satisfied: tqdm<5.0.0,>=4.38.0 in c:\\users\\rxn\\anaconda3\\lib\\site-packages (from spacy<3.1.0,>=3.0.0->en-core-web-trf==3.0.0) (4.50.2)\n",
      "Requirement already satisfied: murmurhash<1.1.0,>=0.28.0 in c:\\users\\rxn\\anaconda3\\lib\\site-packages (from spacy<3.1.0,>=3.0.0->en-core-web-trf==3.0.0) (1.0.5)\n",
      "Requirement already satisfied: spacy-legacy<3.1.0,>=3.0.0 in c:\\users\\rxn\\anaconda3\\lib\\site-packages (from spacy<3.1.0,>=3.0.0->en-core-web-trf==3.0.0) (3.0.1)\n",
      "Requirement already satisfied: packaging>=20.0 in c:\\users\\rxn\\anaconda3\\lib\\site-packages (from spacy<3.1.0,>=3.0.0->en-core-web-trf==3.0.0) (20.4)\n",
      "Requirement already satisfied: cymem<2.1.0,>=2.0.2 in c:\\users\\rxn\\anaconda3\\lib\\site-packages (from spacy<3.1.0,>=3.0.0->en-core-web-trf==3.0.0) (2.0.5)\n",
      "Requirement already satisfied: blis<0.8.0,>=0.4.0 in c:\\users\\rxn\\anaconda3\\lib\\site-packages (from spacy<3.1.0,>=3.0.0->en-core-web-trf==3.0.0) (0.7.4)\n",
      "Requirement already satisfied: catalogue<2.1.0,>=2.0.1 in c:\\users\\rxn\\anaconda3\\lib\\site-packages (from spacy<3.1.0,>=3.0.0->en-core-web-trf==3.0.0) (2.0.1)\n",
      "Requirement already satisfied: wasabi<1.1.0,>=0.8.1 in c:\\users\\rxn\\anaconda3\\lib\\site-packages (from spacy<3.1.0,>=3.0.0->en-core-web-trf==3.0.0) (0.8.2)\n",
      "Requirement already satisfied: requests<3.0.0,>=2.13.0 in c:\\users\\rxn\\anaconda3\\lib\\site-packages (from spacy<3.1.0,>=3.0.0->en-core-web-trf==3.0.0) (2.24.0)\n",
      "Requirement already satisfied: wcwidth in c:\\users\\rxn\\anaconda3\\lib\\site-packages (from ftfy<6.0.0,>=5.0.0->spacy-transformers<1.1.0,>=1.0.0rc4->en-core-web-trf==3.0.0) (0.2.5)\n",
      "Requirement already satisfied: typing-extensions in c:\\users\\rxn\\anaconda3\\lib\\site-packages (from torch>=1.5.0->spacy-transformers<1.1.0,>=1.0.0rc4->en-core-web-trf==3.0.0) (3.7.4.3)\n",
      "Requirement already satisfied: filelock in c:\\users\\rxn\\appdata\\roaming\\python\\python38\\site-packages (from transformers<4.3.0,>=3.1.0->spacy-transformers<1.1.0,>=1.0.0rc4->en-core-web-trf==3.0.0) (3.0.12)\n",
      "Requirement already satisfied: regex!=2019.12.17 in c:\\users\\rxn\\anaconda3\\lib\\site-packages (from transformers<4.3.0,>=3.1.0->spacy-transformers<1.1.0,>=1.0.0rc4->en-core-web-trf==3.0.0) (2020.10.15)\n",
      "Requirement already satisfied: sacremoses in c:\\users\\rxn\\anaconda3\\lib\\site-packages (from transformers<4.3.0,>=3.1.0->spacy-transformers<1.1.0,>=1.0.0rc4->en-core-web-trf==3.0.0) (0.0.43)\n",
      "Requirement already satisfied: tokenizers==0.9.4 in c:\\users\\rxn\\anaconda3\\lib\\site-packages (from transformers<4.3.0,>=3.1.0->spacy-transformers<1.1.0,>=1.0.0rc4->en-core-web-trf==3.0.0) (0.9.4)\n",
      "Requirement already satisfied: click<7.2.0,>=7.1.1 in c:\\users\\rxn\\anaconda3\\lib\\site-packages (from typer<0.4.0,>=0.3.0->spacy<3.1.0,>=3.0.0->en-core-web-trf==3.0.0) (7.1.2)\n",
      "Requirement already satisfied: MarkupSafe>=0.23 in c:\\users\\rxn\\anaconda3\\lib\\site-packages (from jinja2->spacy<3.1.0,>=3.0.0->en-core-web-trf==3.0.0) (1.1.1)\n",
      "Requirement already satisfied: smart-open<4.0.0,>=2.2.0 in c:\\users\\rxn\\anaconda3\\lib\\site-packages (from pathy->spacy<3.1.0,>=3.0.0->en-core-web-trf==3.0.0) (3.0.0)\n",
      "Requirement already satisfied: pyparsing>=2.0.2 in c:\\users\\rxn\\anaconda3\\lib\\site-packages (from packaging>=20.0->spacy<3.1.0,>=3.0.0->en-core-web-trf==3.0.0) (2.4.7)\n",
      "Requirement already satisfied: six in c:\\users\\rxn\\appdata\\roaming\\python\\python38\\site-packages (from packaging>=20.0->spacy<3.1.0,>=3.0.0->en-core-web-trf==3.0.0) (1.15.0)\n",
      "Requirement already satisfied: urllib3!=1.25.0,!=1.25.1,<1.26,>=1.21.1 in c:\\users\\rxn\\anaconda3\\lib\\site-packages (from requests<3.0.0,>=2.13.0->spacy<3.1.0,>=3.0.0->en-core-web-trf==3.0.0) (1.25.11)\n",
      "Requirement already satisfied: chardet<4,>=3.0.2 in c:\\users\\rxn\\anaconda3\\lib\\site-packages (from requests<3.0.0,>=2.13.0->spacy<3.1.0,>=3.0.0->en-core-web-trf==3.0.0) (3.0.4)\n",
      "Requirement already satisfied: certifi>=2017.4.17 in c:\\users\\rxn\\anaconda3\\lib\\site-packages (from requests<3.0.0,>=2.13.0->spacy<3.1.0,>=3.0.0->en-core-web-trf==3.0.0) (2020.6.20)\n",
      "Requirement already satisfied: idna<3,>=2.5 in c:\\users\\rxn\\anaconda3\\lib\\site-packages (from requests<3.0.0,>=2.13.0->spacy<3.1.0,>=3.0.0->en-core-web-trf==3.0.0) (2.10)\n",
      "Requirement already satisfied: joblib in c:\\users\\rxn\\anaconda3\\lib\\site-packages (from sacremoses->transformers<4.3.0,>=3.1.0->spacy-transformers<1.1.0,>=1.0.0rc4->en-core-web-trf==3.0.0) (0.17.0)\n",
      "Installing collected packages: spacy-transformers, en-core-web-trf\n",
      "Successfully installed en-core-web-trf-3.0.0 spacy-transformers-1.0.1\n",
      "[+] Download and installation successful\n",
      "You can now load the package via spacy.load('en_core_web_trf')\n"
     ]
    },
    {
     "name": "stderr",
     "output_type": "stream",
     "text": [
      "WARNING: You are using pip version 20.2.3; however, version 21.0.1 is available.\n",
      "You should consider upgrading via the 'C:\\Users\\RxN\\anaconda3\\python.exe -m pip install --upgrade pip' command.\n"
     ]
    }
   ],
   "source": [
    "!pip install spacy-transformers\n",
    "!python -m spacy download en_core_web_trf\n",
    "import spacy\n",
    "import en_core_web_trf"
   ]
  },
  {
   "cell_type": "code",
   "execution_count": 32,
   "metadata": {},
   "outputs": [
    {
     "name": "stdout",
     "output_type": "stream",
     "text": [
      "['can we have an investigation on this', 'captain saab amarinder you need to investigate this police officers need to be punished', 'there is no compromise when it comes to injustice you have to fight it stand with our farmers', 'farmers in india are fighting for their livelihoods', 'with farmers 4farmers', 'what about covid 19 anyone', 'guys follow kro ranjit veere de account nu', 'no to rss', 'we stand with farmers', 'everyone please read and share', 'are you kidding me', 'salute to great martyrs and farmers jai kisan', 'they are all fake', 'honour our martyrs', 'his legacy continues', 'save agriculture support farmer protest', 'respect farmer support farmersprotest', 'its time to correct this grave mistake', 'bollywood starts who lost my respect', 'india stand against crony capitalism', 'day 117death toll 300', 'farmers will win', 'i have a feel the creator isnt too kind to genocidal narcissists', 'for my dearest andhbhakt', 'never forgot our martyrs', 'now days andhbakhts are getting trolled &amp; humilated on twitter', 'farmer stand strong', 'its facebook versus indias farmers via', 'farmers protest in dc 3/17/2021 we farm you eat', 'we stand with our farmersmay waheguru continue to give kirpa to our brothers and sisters in', 'support farmer save agriculture', 'our voice couldnt be oppressed', 'we will win', 'you just have to be human to raise awareness about the', 'i pray they repeal the death laws', 'wondering how nhai makes annually from pan india tolls', 'weak people revenge strong people forgive intelligent people ignore albert einstein', 'never bow down to dictators history is our witness', 'be united and fight for our rights', 'haryanvis welcoming dy cm dushyant chautala', 'the future prime minister', 'good evening', 'biggest liar in the history of mankind', 'age is just a number being bhagat singh not and bhagat', 'another day another tweet about whats been happening for four months', 'lets see glass half full at least they are not against farmers', 'these agents never want to see india grow', 'no caption needed', 'sunset', 'what a simple and beautiful thought', 'make into hindi', 'never felt so broken in my life', 'nature', 'please donate one like to stop inhuman forces called modi', 'we can see the real beauty of universe through the real nurturer', 'shelf life of protest provoked by and vacant', 'bjp upset at losing delhi electionsbjp takes away democracy from delhi', 'hes the best at running a demockracy', 'today with huge crowd farmers vidhansabha march held in bangalore', 'the protests arent just near delhi', 'though mia khalifa was a pornstar but best blowjobs are given by indian cricketers and bollywood celebrities', 'listen to throwback bhangra jams dj essbee by dj essbee on', 'we are with deep sidhu', 'farmers protest spreads to banglore thousend of supporters marchew towards vidhan sabha today', '23rd of march', 'why bjp is counting on manjeshwaram via', 'fm resign deshbhachao', 'remember is still going on', 'considering silence to be nonviolence is a sign of our downfall not progress speak up for farmers of india', 'they will sleep on the streets until these farming laws are repealed', 'so apparently and and sonam bajwa coming with a movie in they are anti', 'the fight for our rights is still going on inquilab zindabaad', 'the msp guarantee act is not difficult but the government is a puppet in the hands of donors', 'what a relief', 'by crushing individuals they cannot kill ideas bhagat singh', 'camp at by gurjotsandhu ji', 'farmers protest', 'yup their lies are all being exposed the world is watching', 'trying to hit the economic stability of bharath', 'come out and support the farmers', 'yeah right', 'why a technical proposal by fci could add to farmers woes bloombergquint via', 'the best way forward is to reach out to international leaders &amp; audience about', 'spread towards banglore thousands of farmers marching towards vidhan sabha via', 'modi bhgao desh bachao boycott bjp', 'nashe ruins everything everything', 'you are the artist of your life dont give the paintbrush to anyone else', 'patience and perseverance always takes the struggle towards success', 'i keep dogale bande out of my reach', 'shame on bjp their blind hunger for power has ruined india and its democracy', 'protests are not confined to 2 states', 'bjp is anti democracy', 'this is too good pls watch no vote for bjp', 'an essay on by a little champ kudos ls', 'gurnam singh chaduni reached rajasthan there he was supported by the muslim community', 'you go sir', 'placing boards outside temples in uttarakhand that no non hindus should enter here this is dictatorship', 'you should also thanks punjab delhi and andhra pradesh for not electing bjp', 'sikhnews247 1inamillion08 this is a gem', 'some people are annoying they dont leave you any choice but block them', 'btw farmers are still protesting', 'we will remember what they did to us they always had a choice to do the right thing in the right way', 'now you feel when nobody is talking about your protest on national media that was same for', 'we stand with the', 'nice', 'thank you so much and would like to thank ji for initiating this strike', 'here comes the new toolkit agenda after epic failure try one try all', 'welcome to', 'well done', 'no farmers no food ride sector 17', 'veer ranjit singh da official twitter account follow', 'resonates with india sharma the table is already set the menu limited', 'nice to see our brothers and sisters in the south supporting', 'thread', 'no farmers no food', 'its now or never', 'we are behind our farmers a 100%', 'lock down is an excuse the real purpose is to remove the peasant movement', 'farmers feed the world a big thanks to all our farmers for all they do to keep food on our tables', 'in memory of 300+ farmers who lost their lives in protest via nofood', 'shame on modi government', 'a sustainable living should be a right in any democracy', 'ban the sale of food below the cost of production', 'i stand in solidarity with our farmers do you', 'that current banner pic of mine i wanna be such farmer', 'hitler modi against farmers', 'bjp has film awards', 'thank you for the update', 'if the deaf have to hear the sound has to be very loud bhagat singh', 'thats determination', 'mirzyas account has been withheld in india in response to a legal demand learn more', 'exactly but sirf ohna de nazar ch', 'the is not just a protest its the beginning of a revolution', '100% anything less is just lip service', 'boycott reliance productsboycott jio', 'amazing', 'we shall reap the wheat too as well as continue to stand up for our rights )', 'the truth is 97% people support in tnyou know about the 3%', 'professor virinder kalra discussing the farm protests in india', 'nhai suffers rs 814 cr toll loss in 3 states due to farmers protest', 'this is massive support from tn for the', 'great painting', 'pay your tributes by supporting farmers rights', '81% of the respondents in the puthiya thalaimurai poll survey support delhi', 'this is big opinion poll says 81 20% people support', 'yesterday', 'makes sense', 'keep supporting farmers boycott bjp', 'support farmers boycott bjp', 'farmers are back bone of economy', 'by pass shut down by', 'hey guys take note of it', 'lets not forget that farmers are still protesting', 'its now or neverspeak up against the injustice and oppression of farmers', 'this is the time we all have to stay united and support', 'this is great idea', 'the whole world is supporting why cant the indian government see', 'farmers are our pride i will always support', 'thank you', 'all corrupted chor bjp', 'the most common way people give up their power is by thinking they dont have any speak up', 'i wish punjabis welcome akalis like this instead of going to their rallies watch and learn', 'please do watch', 'how long can you go without internet on your phone sleeping time wont count be honest lol', 'defence ministry signs contract with mdsl for buying 1300 made in india specialist vehicles for army times now', 'todays acquisition', 'great', 'think about farmers 4farmers nahin msp do', 'boycott bjp for farmers', 'making pm kisan more inclusive is an important step', 'janta curfew anniversary', 'unity will get us there', 'good morning everyone and good evening', 'breaking news', 'i support', 'good morning', 'army to get 1300 made in india specialist vehicles ani news', 'is still on please support them', 'blatant speech on peasant movement by ji', 'how it started and how it ended', 'hope all will be well', 'canadian excellent coverage of the in india', 'bail granted to mohinder singh ji khalsamandeep singhakashpreet singhjust 6 more brothers are inside prison now', 'save democracy save india opposedictatorship rojgar job do 4farmers', 'how the paper industry has been affected by the 3 c factors businessline', 'bas evm ban ho jaye ta sab leaders fair treeke naal hi choose hon ge', 'support', 'if the deaf are to hear the sound has to be very loud', 'hoping and praying that is safe been the most constant source of information regarding the', 'please support farmers which ever way you can 4farmers', 'rally in support of indian farmers in mission bc march 20th 2021', 'stay safe', 'farmers ready for a long haul 4farmers', 'we stand together 4farmers', 'farming is not just a job its way of life 4farmers', 'our volunteers are our heroes', 'thank you for admitting the duty many does not they oppose', 'with sunam', 'all is well', 'no more jumla', 'still missing', '1inamillion08 this is a gem', 'oh man i didnt', 'will fight till win', 'waheguru bless each and everyone who is supporting our farmers', 'appeal to repeal', 'i stand with farmers and will be with farmers to the end', 'good news', 'we will win continue the fight for rights throw out the trash bjp', 'very nice', 'indain farmers protest against modi sarkar', 'its not about if you are interested in tweetingits a need of the hour to tweet for', 'indias farmers and myanmar standing together in protest at washington dc', 'youth participation at the', 'never be afraid to raise your voice for honesty and truth and compassion against injustice lying and greed', 'something for the modi bhakts to understand', 'check out solidarity with indian farmers protest', 'salute to each and every woman supporters', 'in the name of via', 'now who did this', 'me neither', 'what farmers want is msp not your laws', 'reasons to roar louder on 23 march', 'we are from bhagat singhs nation we will return with rights', 'true', 'yes will fight till win', 'retweet please', 'country can be changed only by education', 'relevant to todays time right a short cover by me', 'karnatakas hero sangolli rayanna watches on as the farmers march on for their freedom', 'remember and never forget shaheed bhagat singh 23march 1931 bhagat singh', 'the political fix what does indias democratic backsliding mean for the quad', 'must watchand share it', 'another political way of badals to save themselves', 'godaddy launches new marketing campaign with ms dhoni to inspire local businesses in india business insider india', 'indias virchow biotech to make russias sputnik v shot in india hindustan times', 'indian group to make 200 million doses of russias sputnik v economic times', 'say no to injustice raise your voice speak up', 'farmer one who feeds you', 'raise your voice', 'awesome', 'beautiful', 'stand with the farmers', 'thats really matter of worrying regarding', 'long live revolution', 'hope hes safe', 'no need to explain who is who in the current scenario introspect and think for yourself', 'daily reminder farmers are still protesting', 'inquilab zindabad', 'right', 'my farmer my pride', 'the farmers of india india', 'bycott bjp 4farmers', 'ask yourself what would bhagat singh do if he was alive today', 'is still happening', 'where are the spoons of bjp 4farmers', 'mandeeptoronto', 'you are an inspiration', 'kisan ekta zindabadtake back 3 black farm lawskeep supporting indian farmersno farmers no food', 'well that escalated quickly', 'i cannot be intimidated i cannot be bought the women leading indias', 'this is not only about the communal hate but also about discrediting pds', 'a right is not what someone gives you; its what no one can take from youstand united for farmer rights', 'just remember that', 'hope is safe', 'mp gives zero hour notice in seeking end to farmers agitation', 'jai hind', 'it isnt difficult to stop trading below thats what farmers are asking', 'this', 'truth make your voice loud and clear', 'he is the real hero shaheed bagat singh', 'cutest revolutionary', 'saw few weeks ago in india', 'remember and never forget shaheed bhagat singh 23march 1931', 'cant believe people still support the man destroying this country', 'well said', 'babasaheb &amp; in the house', 'live from massive farmers rally in bengaluru', 'a year on from lockdown india reports worst daily rise in covid 19 in months economic times', 'proud to be fan of bhagat singh proud to be andolanjivi', 'lockdown for', 'more power to kasam and its 20 founding farm leaders to take the beyond the borders of gujarat', 'hey where have your travels been taking you', 'you will face many defeats in life but never let yourself be defeated', 'stop privatisation nofood banevm', 'lets get together in this we will surely win', 'farmers are patient karma isnt summer at', 'what happen to these reporters', 'thanks', 'thank you bro', 'bring ballot paper back in elections', 'revolution never stop', 'shocking aaj tak showing some sort of reality', 'thats why the is the largest protest in history', 'ah the cycle of corruption', 'salute', 'beautiful video', 'farmers are the best', 'never forget', 'support farmers', 'respect for those who support', 'a country they dreamt is our responsibilty too', 'time to show support for farmers in person at delhi borders a request to all indians', 'agree 100%', 'the only purpose of no attention to is to discredit them look at us does this affect us equally now as it used to', 'my courage is bigger than your threats my struggle is older than your life', 'repeal farm laws kissan ekta zindabad we support', 'dont forget to use this hashtag with each tweet regarding farmers', 'hats off', 'remember', 'our farmers in the peaceful protest', 'law is not law if it violates the principles of eternal justice', 'one of the super drama', 'get up stand up stand up for your rights', 'theyre fighting for their future', 'these great soul(s) must be our role model', 'so goes for so called', 'the greatest glory in living lies not in never falling but in rising every time we fall', 'still alive in our hearts', 'nothing strengthens authority so much as silence speak up and support farmers they are suffering and dying', 'day 38i still stand in solidarity with the without farmers there is no food', 'nice read this thread of tweets sab kuch te uda ta bjp sarkar ne', 'accept death but not defeat', 'a declaration of triump bolesonihal satshriakal', 'remember or forgot who they were', 'are you with farmers', 'if you wanna make the world a better place take a look at yourself then make that change', 'vacation is done but im not finished', 'canada coming out with so many protests this weekend', 'is it time to buy itc and psu stocks like bpcl bel or nmdc economic times', 'innovative technologies at the helm of a digitally connected india economic times', '26\\\\11 attack 166 civillians diedfarmer protest 248 civillians died', 'we will not go without winning we have full courage see the spirit of (niranjan singh) bappu ji', 'what say', 'fact is factcheck it', 'beautiful glimpses', 'boycott evm vote only by ballot', 'doing what is right not what is easy', 'lets keep our spirit high', 'good night take care of yourself', 'without farmers this country will not survive', 'the time is always right to do what is right', 'injustice anywhere is a threat to justice everywhere', 'a rebellion is not a revolution it may ultimately lead to that end', 'agree', 'all opposition parties duped farmers please watch this report', 'account has been withheld in india in response to a legal demand learn more']\n",
      "\tNE found:  11 16 GPE india -- farmers in india are fighting for their livelihoods\n",
      "\tNE found:  13 21 CARDINAL 4farmers -- with farmers 4farmers\n",
      "\tNE found:  17 19 CARDINAL 19 -- what about covid 19 anyone\n",
      "\tNE found:  0 5 GPE india -- india stand against crony capitalism\n",
      "\tNE found:  4 12 CARDINAL 117death -- day 117death toll 300\n",
      "\tNE found:  18 21 CARDINAL 300 -- day 117death toll 300\n",
      "\tNE found:  22 31 CARDINAL 3/17/2021 -- farmers protest in dc 3/17/2021 we farm you eat\n"
     ]
    },
    {
     "name": "stdout",
     "output_type": "stream",
     "text": [
      "\tNE found:  14 18 GPE nhai -- wondering how nhai makes annually from pan india tolls\n",
      "\tNE found:  25 33 DATE annually -- wondering how nhai makes annually from pan india tolls\n",
      "\tNE found:  43 48 GPE india -- wondering how nhai makes annually from pan india tolls\n",
      "\tNE found:  5 12 TIME evening -- good evening\n",
      "\tNE found:  0 11 DATE another day -- another day another tweet about whats been happening for four months\n",
      "\tNE found:  57 68 DATE four months -- another day another tweet about whats been happening for four months\n",
      "\tNE found:  15 19 CARDINAL half -- lets see glass half full at least they are not against farmers\n",
      "\tNE found:  31 36 GPE india -- these agents never want to see india grow\n",
      "\tNE found:  0 5 DATE today -- today with huge crowd farmers vidhansabha march held in bangalore\n",
      "\tNE found:  88 93 DATE today -- farmers protest spreads to banglore thousend of supporters marchew towards vidhan sabha today\n",
      "\tNE found:  101 106 GPE india -- considering silence to be nonviolence is a sign of our downfall not progress speak up for farmers of india\n",
      "\tNE found:  24 33 CARDINAL thousands -- spread towards banglore thousands of farmers marching towards vidhan sabha via\n",
      "\tNE found:  53 58 GPE india -- shame on bjp their blind hunger for power has ruined india and its democracy\n",
      "\tNE found:  29 30 CARDINAL 2 -- protests are not confined to 2 states\n",
      "\tNE found:  12 25 CARDINAL 1inamillion08 -- sikhnews247 1inamillion08 this is a gem\n",
      "\tNE found:  57 60 CARDINAL one -- here comes the new toolkit agenda after epic failure try one try all\n",
      "\tNE found:  31 33 CARDINAL 17 -- no farmers no food ride sector 17\n",
      "\tNE found:  15 20 GPE india -- resonates with india sharma the table is already set the menu limited\n",
      "\tNE found:  28 32 PERCENT 100% -- we are behind our farmers a 100%\n",
      "\tNE found:  13 16 CARDINAL 300 -- in memory of 300+ farmers who lost their lives in protest via nofood\n",
      "\tNE found:  37 42 GPE india -- mirzyas account has been withheld in india in response to a legal demand learn more\n",
      "\tNE found:  0 4 PERCENT 100% -- 100% anything less is just lip service\n",
      "\tNE found:  13 16 PERCENT 97% -- the truth is 97% people support in tnyou know about the 3%\n",
      "\tNE found:  52 58 PERCENT the 3% -- the truth is 97% people support in tnyou know about the 3%\n",
      "\tNE found:  57 62 GPE india -- professor virinder kalra discussing the farm protests in india\n",
      "\tNE found:  16 19 CARDINAL 814 -- nhai suffers rs 814 cr toll loss in 3 states due to farmers protest\n",
      "\tNE found:  36 37 CARDINAL 3 -- nhai suffers rs 814 cr toll loss in 3 states due to farmers protest\n",
      "\tNE found:  0 3 PERCENT 81% -- 81% of the respondents in the puthiya thalaimurai poll survey support delhi\n",
      "\tNE found:  30 36 PERCENT 81 20% -- this is big opinion poll says 81 20% people support\n",
      "\tNE found:  0 9 DATE yesterday -- yesterday\n",
      "\tNE found:  53 57 DATE 1300 -- defence ministry signs contract with mdsl for buying 1300 made in india specialist vehicles for army times now\n",
      "\tNE found:  66 71 GPE india -- defence ministry signs contract with mdsl for buying 1300 made in india specialist vehicles for army times now\n",
      "\tNE found:  20 28 CARDINAL 4farmers -- think about farmers 4farmers nahin msp do\n",
      "\tNE found:  31 38 TIME evening -- good morning everyone and good evening\n",
      "\tNE found:  5 12 TIME morning -- good morning\n",
      "\tNE found:  12 16 DATE 1300 -- army to get 1300 made in india specialist vehicles ani news\n",
      "\tNE found:  25 30 GPE india -- army to get 1300 made in india specialist vehicles ani news\n",
      "\tNE found:  38 43 GPE india -- canadian excellent coverage of the in india\n",
      "\tNE found:  74 75 CARDINAL 6 -- bail granted to mohinder singh ji khalsamandeep singhakashpreet singhjust 6 more brothers are inside prison now\n",
      "\tNE found:  20 25 GPE india -- save democracy save india opposedictatorship rojgar job do 4farmers\n",
      "\tNE found:  59 67 CARDINAL 4farmers -- save democracy save india opposedictatorship rojgar job do 4farmers\n",
      "\tNE found:  48 49 CARDINAL 3 -- how the paper industry has been affected by the 3 c factors businessline\n",
      "\tNE found:  55 64 DATE 20th 2021 -- rally in support of indian farmers in mission bc march 20th 2021\n",
      "\tNE found:  30 38 CARDINAL 4farmers -- farmers ready for a long haul 4farmers\n",
      "\tNE found:  18 26 CARDINAL 4farmers -- we stand together 4farmers\n",
      "\tNE found:  42 50 CARDINAL 4farmers -- farming is not just a job its way of life 4farmers\n",
      "\tNE found:  0 13 CARDINAL 1inamillion08 -- 1inamillion08 this is a gem\n",
      "\tNE found:  26 28 CARDINAL 23 -- reasons to roar louder on 23 march\n",
      "\tNE found:  47 54 CARDINAL 23march -- remember and never forget shaheed bhagat singh 23march 1931 bhagat singh\n",
      "\tNE found:  55 59 DATE 1931 -- remember and never forget shaheed bhagat singh 23march 1931 bhagat singh\n",
      "\tNE found:  85 90 GPE india -- godaddy launches new marketing campaign with ms dhoni to inspire local businesses in india business insider india\n",
      "\tNE found:  108 113 GPE india -- godaddy launches new marketing campaign with ms dhoni to inspire local businesses in india business insider india\n",
      "\tNE found:  57 62 GPE india -- indias virchow biotech to make russias sputnik v shot in india hindustan times\n",
      "\tNE found:  21 32 CARDINAL 200 million -- indian group to make 200 million doses of russias sputnik v economic times\n",
      "\tNE found:  0 5 DATE daily -- daily reminder farmers are still protesting\n",
      "\tNE found:  15 20 GPE india -- the farmers of india india\n",
      "\tNE found:  11 19 CARDINAL 4farmers -- bycott bjp 4farmers\n",
      "\tNE found:  56 61 DATE today -- ask yourself what would bhagat singh do if he was alive today\n",
      "\tNE found:  28 36 CARDINAL 4farmers -- where are the spoons of bjp 4farmers\n",
      "\tNE found:  29 30 CARDINAL 3 -- kisan ekta zindabadtake back 3 black farm lawskeep supporting indian farmersno farmers no food\n",
      "\tNE found:  9 18 TIME zero hour -- mp gives zero hour notice in seeking end to farmers agitation\n",
      "\tNE found:  0 17 DATE saw few weeks ago -- saw few weeks ago in india\n",
      "\tNE found:  21 26 GPE india -- saw few weeks ago in india\n",
      "\tNE found:  47 54 CARDINAL 23march -- remember and never forget shaheed bhagat singh 23march 1931\n",
      "\tNE found:  55 59 DATE 1931 -- remember and never forget shaheed bhagat singh 23march 1931\n",
      "\tNE found:  24 29 GPE india -- a year on from lockdown india reports worst daily rise in covid 19 in months economic times\n",
      "\tNE found:  44 49 DATE daily -- a year on from lockdown india reports worst daily rise in covid 19 in months economic times\n",
      "\tNE found:  58 66 DATE covid 19 -- a year on from lockdown india reports worst daily rise in covid 19 in months economic times\n",
      "\tNE found:  70 76 DATE months -- a year on from lockdown india reports worst daily rise in covid 19 in months economic times\n",
      "\tNE found:  28 30 CARDINAL 20 -- more power to kasam and its 20 founding farm leaders to take the beyond the borders of gujarat\n",
      "\tNE found:  31 37 DATE summer -- farmers are patient karma isnt summer at\n",
      "\tNE found:  6 10 PERCENT 100% -- agree 100%\n",
      "\tNE found:  0 3 CARDINAL one -- one of the super drama\n",
      "\tNE found:  4 7 DATE 38i -- day 38i still stand in solidarity with the without farmers there is no food\n",
      "\tNE found:  40 52 DATE this weekend -- canada coming out with so many protests this weekend\n",
      "\tNE found:  61 66 GPE india -- innovative technologies at the helm of a digitally connected india economic times\n",
      "\tNE found:  13 16 CARDINAL 166 -- 26\\11 attack 166 civillians diedfarmer protest 248 civillians died\n",
      "\tNE found:  47 50 CARDINAL 248 -- 26\\11 attack 166 civillians diedfarmer protest 248 civillians died\n",
      "\tNE found:  29 34 GPE india -- account has been withheld in india in response to a legal demand learn more\n",
      "['india', '4farmers', '19', 'india', '117death', '300', '3/17/2021', 'nhai', 'annually', 'india', 'evening', 'another day', 'four months', 'half', 'india', 'today', 'today', 'india', 'thousands', 'india', '2', '1inamillion08', 'one', '17', 'india', '100%', '300', 'india', '100%', '97%', 'the 3%', 'india', '814', '3', '81%', '81 20%', 'yesterday', '1300', 'india', '4farmers', 'evening', 'morning', '1300', 'india', 'india', '6', 'india', '4farmers', '3', '20th 2021', '4farmers', '4farmers', '4farmers', '1inamillion08', '23', '23march', '1931', 'india', 'india', 'india', '200 million', 'daily', 'india', '4farmers', 'today', '4farmers', '3', 'zero hour', 'saw few weeks ago', 'india', '23march', '1931', 'india', 'daily', 'covid 19', 'months', '20', 'summer', '100%', 'one', '38i', 'this weekend', 'india', '166', '248', 'india']\n"
     ]
    }
   ],
   "source": [
    "nlp = spacy.load('en_core_web_sm')\n",
    "unique_tweets = pd.read_csv(PREPROCESSED_CSV_NAME, quotechar='\"', encoding='utf8')\n",
    "unique_tweets_list = list(unique_tweets['text_processed'].values)\n",
    "\n",
    "print(unique_tweets_list)\n",
    "\n",
    "entities = list()\n",
    "\n",
    "for tweet_text in unique_tweets_list:\n",
    "  doc = nlp(tweet_text)\n",
    "  for ne in doc.ents:\n",
    "    print('\\tNE found: ', ne.start_char, ne.end_char, ne.label_, ne.text,\"--\",tweet_text)\n",
    "    entities.append(ne.text)\n",
    "\n",
    "print(entities)"
   ]
  },
  {
   "cell_type": "code",
   "execution_count": null,
   "metadata": {},
   "outputs": [],
   "source": []
  }
 ],
 "metadata": {
  "kernelspec": {
   "display_name": "Python 3",
   "language": "python",
   "name": "python3"
  },
  "language_info": {
   "codemirror_mode": {
    "name": "ipython",
    "version": 3
   },
   "file_extension": ".py",
   "mimetype": "text/x-python",
   "name": "python",
   "nbconvert_exporter": "python",
   "pygments_lexer": "ipython3",
   "version": "3.8.3"
  }
 },
 "nbformat": 4,
 "nbformat_minor": 4
}
